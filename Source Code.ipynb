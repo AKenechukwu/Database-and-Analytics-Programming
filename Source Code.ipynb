{
 "cells": [
  {
   "cell_type": "code",
   "execution_count": null,
   "metadata": {},
   "outputs": [],
   "source": [
    "import requests\n",
    "import pymongo\n",
    "import json\n",
    "import gridfs\n",
    "\n",
    "#This is using GridFS since the JSON file is larger than 16mb and requests to fetch the json data\n",
    "\n",
    "#Get the JSON data from API Url\n",
    "r = requests.get(url='https://opendata.arcgis.com/datasets/02a4e8117bbf40bdba63144b1740e507_0.geojson')\n",
    "\n",
    "#I was initially printing out the response to see if it is working, so uncomment it and check if you like\n",
    "#print(r.json())\n",
    "\n",
    "#Setting up MongoDB Connection\n",
    "\n",
    "db = pymongo.MongoClient().population\n",
    "fs = gridfs.GridFS(db)\n",
    "\n",
    "#Insert Data\n",
    "fs.put(r.content)"
   ]
  },
  {
   "cell_type": "code",
   "execution_count": null,
   "metadata": {},
   "outputs": [],
   "source": [
    "import urllib.request\n",
    "import pymongo\n",
    "import json\n",
    "\n",
    "#This is using urllib.request to fetch the json data\n",
    "\n",
    "#Get JSON data from API Url\n",
    "\n",
    "with urllib.request.urlopen('https://opendata.arcgis.com/datasets/c1188c76371e41a690fa708d6f7ebc5f_0.geojson') as data_file:\n",
    "    data_json = json.load(data_file)\n",
    "\n",
    "#I was initially printing out the response to see if it is working, so uncomment it and check if you like\n",
    "#print(data_json)\n",
    "\n",
    "#Setting up MongoDB Connection\n",
    "mongo_client = pymongo.MongoClient('localhost', 27017) #Connect to MongoDB\n",
    "mongo_db = mongo_client['test-database2'] #Connect to specific database, name of database here is test-database\n",
    "collection_name = 'test_collection' #Access specific collection\n",
    "db_cm = mongo_db[collection_name] #database instance\n",
    "\n",
    "\n",
    "#Insert Data\n",
    "db_cm.remove() #This line throws a warning.\n",
    "db_cm.insert(data_json)"
   ]
  },
  {
   "cell_type": "code",
   "execution_count": null,
   "metadata": {},
   "outputs": [],
   "source": []
  }
 ],
 "metadata": {
  "kernelspec": {
   "display_name": "Python 3",
   "language": "python",
   "name": "python3"
  },
  "language_info": {
   "codemirror_mode": {
    "name": "ipython",
    "version": 3
   },
   "file_extension": ".py",
   "mimetype": "text/x-python",
   "name": "python",
   "nbconvert_exporter": "python",
   "pygments_lexer": "ipython3",
   "version": "3.7.4"
  }
 },
 "nbformat": 4,
 "nbformat_minor": 2
}
